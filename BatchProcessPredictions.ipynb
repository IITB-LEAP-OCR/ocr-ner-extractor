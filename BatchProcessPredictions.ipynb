{
 "cells": [
  {
   "cell_type": "code",
   "execution_count": 137,
   "id": "fe45483e-b650-4298-8710-91154ef59734",
   "metadata": {},
   "outputs": [
    {
     "data": {
      "text/plain": [
       "{'status': 'UP'}"
      ]
     },
     "execution_count": 137,
     "metadata": {},
     "output_type": "execute_result"
    }
   ],
   "source": [
    "# Import the SDK and the client module\n",
    "from label_studio_sdk import Client\n",
    "from label_studio_sdk import Project\n",
    "from label_studio_sdk.data_manager import Column, Filters, Operator, Type\n",
    "from datetime import datetime\n",
    "import json \n",
    "from IPython.display import Image as displayImage\n",
    "from PIL import Image\n",
    "import os\n",
    "\n",
    "# Define the URL where Label Studio is accessible and the API key for your user account\n",
    "LABEL_STUDIO_URL = 'http://localhost:8080'\n",
    "API_KEY = '451682410d6f6de172f36f4b49729792f2875094'\n",
    "\n",
    "\n",
    "# Connect to the Label Studio API and check the connection\n",
    "ls = Client(url=LABEL_STUDIO_URL, api_key=API_KEY)\n",
    "ls.check_connection()\n",
    "\n"
   ]
  },
  {
   "cell_type": "code",
   "execution_count": 61,
   "id": "7cdc911b-3366-4acc-91dc-9ea98da13d56",
   "metadata": {},
   "outputs": [
    {
     "name": "stdout",
     "output_type": "stream",
     "text": [
      "Total Projects present: 2\n",
      "Select a project from below:\n",
      "1.CovidReport\n",
      "2.OCR & NER for Lab Reports\n"
     ]
    },
    {
     "name": "stdin",
     "output_type": "stream",
     "text": [
      "Select a project... 1\n"
     ]
    }
   ],
   "source": [
    "projects=ls.get_projects()\n",
    "print(\"Total Projects present: \"+str(len(projects)))\n",
    "print(\"Select a project from below:\")\n",
    "for idx,p in enumerate(projects):\n",
    "    print(str(idx+1)+'.'+p.title)\n",
    "selProjectNum=int(input(\"Select a project...\"))-1\n",
    "\n",
    "project=projects[selProjectNum]\n"
   ]
  },
  {
   "cell_type": "code",
   "execution_count": 157,
   "id": "e9ad9e85-d9a3-4f9a-b4e4-912bb23a206c",
   "metadata": {},
   "outputs": [
    {
     "data": {
      "text/plain": [
       "{'cancelled_annotations': 0,\n",
       " 'completed_at': '2022-04-13T05:08:41.301450Z',\n",
       " 'created_at': '2022-04-13T05:06:58.884533Z',\n",
       " 'updated_at': '2022-04-13T12:17:45.400301Z',\n",
       " 'annotations_results': '[{original_width: 632, original_height: 888, image_rotation: 0, value: {x: 4.536082435305462, y: 32.84459682570162, width: 91.9587629255193, height: 6.304964026455192, rotation: 0}, id: GQdLT5ZM-l, from_name: bbox, to_name: image, type: rectangle, origin: manual}, {original_width: 632, original_height: 888, image_rotation: 0, value: {x: 4.536082435305462, y: 32.84459682570162, width: 91.9587629255193, height: 6.304964026455192, rotation: 0,',\n",
       " 'data': {'imagepath': '/data/upload/5/d8f81c28-Covid_Sample_Report1_Lal_P.png'},\n",
       " 'id': 2,\n",
       " 'predictions_results': '',\n",
       " 'predictions_score': None,\n",
       " 'total_annotations': 1,\n",
       " 'total_predictions': 0,\n",
       " 'annotations_ids': '9',\n",
       " 'annotations': [{'id': 9,\n",
       "   'created_username': ' venkat.s.iyer@gmail.com, 2',\n",
       "   'created_ago': '7\\xa0hours, 9\\xa0minutes',\n",
       "   'result': [{'original_width': 632,\n",
       "     'original_height': 888,\n",
       "     'image_rotation': 0,\n",
       "     'value': {'x': 4.536082435305462,\n",
       "      'y': 32.84459682570162,\n",
       "      'width': 91.9587629255193,\n",
       "      'height': 6.304964026455192,\n",
       "      'rotation': 0},\n",
       "     'id': 'GQdLT5ZM-l',\n",
       "     'from_name': 'bbox',\n",
       "     'to_name': 'image',\n",
       "     'type': 'rectangle',\n",
       "     'origin': 'manual'},\n",
       "    {'original_width': 632,\n",
       "     'original_height': 888,\n",
       "     'image_rotation': 0,\n",
       "     'value': {'x': 4.536082435305462,\n",
       "      'y': 32.84459682570162,\n",
       "      'width': 91.9587629255193,\n",
       "      'height': 6.304964026455192,\n",
       "      'rotation': 0,\n",
       "      'labels': ['Result']},\n",
       "     'id': 'GQdLT5ZM-l',\n",
       "     'from_name': 'label',\n",
       "     'to_name': 'image',\n",
       "     'type': 'labels',\n",
       "     'origin': 'manual'},\n",
       "    {'original_width': 632,\n",
       "     'original_height': 888,\n",
       "     'image_rotation': 0,\n",
       "     'value': {'x': 4.536082435305462,\n",
       "      'y': 32.84459682570162,\n",
       "      'width': 91.9587629255193,\n",
       "      'height': 6.304964026455192,\n",
       "      'rotation': 0,\n",
       "      'text': ['result text']},\n",
       "     'id': 'GQdLT5ZM-l',\n",
       "     'from_name': 'transcription',\n",
       "     'to_name': 'image',\n",
       "     'type': 'textarea',\n",
       "     'origin': 'manual'},\n",
       "    {'original_width': 632,\n",
       "     'original_height': 888,\n",
       "     'image_rotation': 0,\n",
       "     'value': {'x': 3.2989690721649496,\n",
       "      'y': 15.102639296187684,\n",
       "      'width': 38.144329896907216,\n",
       "      'height': 4.398826979472141,\n",
       "      'rotation': 0},\n",
       "     'id': 'fMmVXpUuWg',\n",
       "     'from_name': 'bbox',\n",
       "     'to_name': 'image',\n",
       "     'type': 'rectangle',\n",
       "     'origin': 'manual'},\n",
       "    {'original_width': 632,\n",
       "     'original_height': 888,\n",
       "     'image_rotation': 0,\n",
       "     'value': {'x': 3.2989690721649496,\n",
       "      'y': 15.102639296187684,\n",
       "      'width': 38.144329896907216,\n",
       "      'height': 4.398826979472141,\n",
       "      'rotation': 0,\n",
       "      'labels': ['Person']},\n",
       "     'id': 'fMmVXpUuWg',\n",
       "     'from_name': 'label',\n",
       "     'to_name': 'image',\n",
       "     'type': 'labels',\n",
       "     'origin': 'manual'},\n",
       "    {'original_width': 632,\n",
       "     'original_height': 888,\n",
       "     'image_rotation': 0,\n",
       "     'value': {'x': 3.2989690721649496,\n",
       "      'y': 15.102639296187684,\n",
       "      'width': 38.144329896907216,\n",
       "      'height': 4.398826979472141,\n",
       "      'rotation': 0,\n",
       "      'text': ['person text']},\n",
       "     'id': 'fMmVXpUuWg',\n",
       "     'from_name': 'transcription',\n",
       "     'to_name': 'image',\n",
       "     'type': 'textarea',\n",
       "     'origin': 'manual'}],\n",
       "   'was_cancelled': False,\n",
       "   'ground_truth': False,\n",
       "   'created_at': '2022-04-13T05:08:41.301450Z',\n",
       "   'updated_at': '2022-04-13T12:17:45.321405Z',\n",
       "   'lead_time': 28962.417,\n",
       "   'task': 2,\n",
       "   'completed_by': 2,\n",
       "   'parent_prediction': None,\n",
       "   'parent_annotation': None}],\n",
       " 'predictions': [],\n",
       " 'drafts': [],\n",
       " 'file_upload': 'd8f81c28-Covid_Sample_Report1_Lal_P.png',\n",
       " 'annotators': [2],\n",
       " 'project': 5,\n",
       " 'predictions_model_versions': ''}"
      ]
     },
     "execution_count": 157,
     "metadata": {},
     "output_type": "execute_result"
    }
   ],
   "source": [
    "#get the last annotated task\n",
    "filters = Filters.create(Filters.OR, [\n",
    "    Filters.item(\n",
    "        Column.completed_at,\n",
    "        Operator.IN,\n",
    "        Type.Datetime,\n",
    "        Filters.value(\n",
    "            datetime(2021, 11, 1),\n",
    "            datetime.now()\n",
    "        )\n",
    "    )\n",
    "])\n",
    "tasks = project.get_tasks(filters=filters,ordering=[Column.completed_at])\n",
    "tasks[0]"
   ]
  },
  {
   "cell_type": "code",
   "execution_count": 154,
   "id": "051b2111-6fc1-4863-a250-1f9b8d50a195",
   "metadata": {},
   "outputs": [],
   "source": [
    "#get the last annotation in the task. \n",
    "#Assumption here is that the last in the list is the recent\n",
    "annotation=tasks[-1]['annotations'][-1]\n",
    "\n",
    "#get the labels and bbox\n",
    "result=annotation['result']\n",
    "\n",
    "labels=[d for d in result if d['type'] in ['labels']]"
   ]
  },
  {
   "cell_type": "code",
   "execution_count": 155,
   "id": "c3537405-f447-456f-adb7-25f2b9efd2d6",
   "metadata": {},
   "outputs": [],
   "source": [
    "#read the labels.json\n",
    "userDefinedLabels=None\n",
    "\n",
    "with open(\"data/labels.json\", \"r\") as jsonfile:\n",
    "    userDefinedLabels=json.load(jsonfile)\n",
    "\n",
    "if userDefinedLabels==None:\n",
    "    print(\"Error! No User defined label present!\")\n",
    "    sys.exit()\n",
    "\n",
    "for ulabel in userDefinedLabels:\n",
    "    #assuming there is only one\n",
    "    uvalue=[item['value'] for item in labels if item['value']['labels'][0] == ulabel['labelName']][0]\n",
    "    ulabel['x']=uvalue['x']\n",
    "    ulabel['y']=uvalue['y']\n",
    "    ulabel['width']=uvalue['width']\n",
    "    ulabel['height']=uvalue['height']\n",
    "    \n",
    "with open(\"data/labels.json\", \"w\") as outfile:\n",
    "    json.dump(userDefinedLabels, outfile)\n",
    "\n"
   ]
  },
  {
   "cell_type": "code",
   "execution_count": 156,
   "id": "c92c362c-3a2f-4a31-a1d4-862a79e98281",
   "metadata": {},
   "outputs": [
    {
     "name": "stdout",
     "output_type": "stream",
     "text": [
      "Label: Person\n"
     ]
    },
    {
     "data": {
      "image/png": "[encoded data removed]",
      "text/plain": [
       "<PIL.Image.Image image mode=RGBA size=241x39 at 0x7F7FBD0EC820>"
      ]
     },
     "metadata": {},
     "output_type": "display_data"
    },
    {
     "name": "stdout",
     "output_type": "stream",
     "text": [
      "Label: Result\n"
     ]
    },
    {
     "data": {
      "image/png": "[encoded data removed]",
      "text/plain": [
       "<PIL.Image.Image image mode=RGBA size=581x56 at 0x7F7FBCFB61C0>"
      ]
     },
     "metadata": {},
     "output_type": "display_data"
    }
   ],
   "source": [
    "#take the first task and display the regions which are marked for regions\n",
    "#get the first task\n",
    "datadir=\"/home/venkat/.local/share/label-studio/media/upload/\"\n",
    "task=tasks[0]\n",
    "#get the image path & read the image\n",
    "firstTaskImgPath=os.path.join(datadir,str(task['project']),task['file_upload'])\n",
    "\n",
    "im = Image.open(firstTaskImgPath)\n",
    "\n",
    "for ulabel in userDefinedLabels:\n",
    "    #crop image\n",
    "    print(\"Label: \"+ulabel['labelName'])\n",
    "    im1 = im.crop((ulabel['x']/100*im.size[0], ulabel['y']/100*im.size[1], ulabel['x']/100*im.size[0]+ulabel['width']/100*im.size[0],ulabel['y']/100*im.size[1]+ulabel['height']/100*im.size[1]))\n",
    "    display(im1)\n",
    "\n",
    "    #do ocr\n",
    "    #write as predictions of LS json\n"
   ]
  },
  {
   "cell_type": "code",
   "execution_count": 164,
   "id": "17aa8b87-efad-45b7-8f29-50feae3f9683",
   "metadata": {},
   "outputs": [
    {
     "name": "stdin",
     "output_type": "stream",
     "text": [
      "Provide the path containing input images(Relative to the current folder) \n"
     ]
    },
    {
     "name": "stdout",
     "output_type": "stream",
     "text": [
      "data/samples/Covid_Sample_Report1_Lal_P.png\n"
     ]
    }
   ],
   "source": [
    "#get the task. In this example we will get a folder that contains images for the current project\n",
    "directory=input('Provide the path containing input images(Relative to the current folder)') or 'data/samples'\n",
    "\n",
    "# iterate over files in\n",
    "# that directory\n",
    "for filename in os.listdir(directory):\n",
    "    f = os.path.join(directory, filename)\n",
    "    # checking if it is a file\n",
    "    if os.path.isfile(f) and '.jpg' or '.png' in f:\n",
    "        print(f)\n",
    "\n",
    "\n",
    "\n",
    "#for each task\n"
   ]
  },
  {
   "cell_type": "code",
   "execution_count": null,
   "id": "e13923be-bca5-451d-a96b-eda9ddd2db2c",
   "metadata": {},
   "outputs": [],
   "source": []
  },
  {
   "cell_type": "code",
   "execution_count": null,
   "id": "c93f1ade-75d2-4140-9749-b979f6a9d5a7",
   "metadata": {},
   "outputs": [],
   "source": []
  }
 ],
 "metadata": {
  "kernelspec": {
   "display_name": "Python 3",
   "language": "python",
   "name": "python3"
  },
  "language_info": {
   "codemirror_mode": {
    "name": "ipython",
    "version": 3
   },
   "file_extension": ".py",
   "mimetype": "text/x-python",
   "name": "python",
   "nbconvert_exporter": "python",
   "pygments_lexer": "ipython3",
   "version": "3.8.10"
  }
 },
 "nbformat": 4,
 "nbformat_minor": 5
}
