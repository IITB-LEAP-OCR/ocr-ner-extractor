{
  "nbformat": 4,
  "nbformat_minor": 0,
  "metadata": {
    "colab": {
      "name": "usinghocr.ipynb",
      "provenance": [],
      "collapsed_sections": []
    },
    "kernelspec": {
      "name": "python3",
      "display_name": "Python 3"
    },
    "language_info": {
      "name": "python"
    }
  },
  "cells": [
    {
      "cell_type": "code",
      "execution_count": null,
      "metadata": {
        "colab": {
          "base_uri": "https://localhost:8080/"
        },
        "id": "QsraJBwYb8qc",
        "outputId": "267adefa-5073-4ad3-a200-34e5e02dfaa9"
      },
      "outputs": [
        {
          "output_type": "stream",
          "name": "stdout",
          "text": [
            "\u001b[31mERROR: Could not open requirements file: [Errno 2] No such file or directory: 'requirements.txt'\u001b[0m\n"
          ]
        }
      ],
      "source": [
        "pip install -r requirements.txt --quiet"
      ]
    },
    {
      "cell_type": "code",
      "source": [
        "pip install tesseract"
      ],
      "metadata": {
        "colab": {
          "base_uri": "https://localhost:8080/"
        },
        "id": "M-Shbe-udBHA",
        "outputId": "920909a6-4aa5-4b16-b29f-176d2d37d86c"
      },
      "execution_count": null,
      "outputs": [
        {
          "output_type": "stream",
          "name": "stdout",
          "text": [
            "Requirement already satisfied: tesseract in /usr/local/lib/python3.7/dist-packages (0.1.3)\n"
          ]
        }
      ]
    },
    {
      "cell_type": "code",
      "source": [
        "!sudo apt install tesseract-ocr\n",
        "!pip install pytesseract"
      ],
      "metadata": {
        "colab": {
          "base_uri": "https://localhost:8080/"
        },
        "id": "kbjjQVmjdXgY",
        "outputId": "8ed9548b-26eb-4e04-9f73-d24fd39f26bb"
      },
      "execution_count": null,
      "outputs": [
        {
          "output_type": "stream",
          "name": "stdout",
          "text": [
            "Reading package lists... Done\n",
            "Building dependency tree       \n",
            "Reading state information... Done\n",
            "tesseract-ocr is already the newest version (4.00~git2288-10f4998a-2).\n",
            "The following packages were automatically installed and are no longer required:\n",
            "  libnvidia-common-460 nsight-compute-2020.2.0\n",
            "Use 'sudo apt autoremove' to remove them.\n",
            "0 upgraded, 0 newly installed, 0 to remove and 42 not upgraded.\n",
            "Requirement already satisfied: pytesseract in /usr/local/lib/python3.7/dist-packages (0.3.9)\n",
            "Requirement already satisfied: packaging>=21.3 in /usr/local/lib/python3.7/dist-packages (from pytesseract) (21.3)\n",
            "Requirement already satisfied: Pillow>=8.0.0 in /usr/local/lib/python3.7/dist-packages (from pytesseract) (9.1.0)\n",
            "Requirement already satisfied: pyparsing!=3.0.5,>=2.0.2 in /usr/local/lib/python3.7/dist-packages (from packaging>=21.3->pytesseract) (3.0.8)\n"
          ]
        }
      ]
    },
    {
      "cell_type": "code",
      "source": [
        "pip install label_studio_sdk"
      ],
      "metadata": {
        "colab": {
          "base_uri": "https://localhost:8080/"
        },
        "id": "KoUFLtcZi5TU",
        "outputId": "9babf55f-7701-4c6c-c30d-5a387b765081"
      },
      "execution_count": null,
      "outputs": [
        {
          "output_type": "stream",
          "name": "stdout",
          "text": [
            "Requirement already satisfied: label_studio_sdk in /usr/local/lib/python3.7/dist-packages (0.0.12)\n",
            "Requirement already satisfied: requests<3,>=2.22.0 in /usr/local/lib/python3.7/dist-packages (from label_studio_sdk) (2.23.0)\n",
            "Requirement already satisfied: lxml>=4.2.5 in /usr/local/lib/python3.7/dist-packages (from label_studio_sdk) (4.2.6)\n",
            "Requirement already satisfied: pydantic==1.8.2 in /usr/local/lib/python3.7/dist-packages (from label_studio_sdk) (1.8.2)\n",
            "Requirement already satisfied: typing-extensions>=3.7.4.3 in /usr/local/lib/python3.7/dist-packages (from pydantic==1.8.2->label_studio_sdk) (4.2.0)\n",
            "Requirement already satisfied: idna<3,>=2.5 in /usr/local/lib/python3.7/dist-packages (from requests<3,>=2.22.0->label_studio_sdk) (2.10)\n",
            "Requirement already satisfied: certifi>=2017.4.17 in /usr/local/lib/python3.7/dist-packages (from requests<3,>=2.22.0->label_studio_sdk) (2021.10.8)\n",
            "Requirement already satisfied: chardet<4,>=3.0.2 in /usr/local/lib/python3.7/dist-packages (from requests<3,>=2.22.0->label_studio_sdk) (3.0.4)\n",
            "Requirement already satisfied: urllib3!=1.25.0,!=1.25.1,<1.26,>=1.21.1 in /usr/local/lib/python3.7/dist-packages (from requests<3,>=2.22.0->label_studio_sdk) (1.24.3)\n"
          ]
        }
      ]
    },
    {
      "cell_type": "code",
      "source": [
        "from label_studio_sdk import Client\n",
        "from label_studio_sdk import Project\n",
        "from label_studio_sdk.data_manager import Column, Filters, Operator, Type\n",
        "from datetime import datetime\n",
        "import json \n",
        "from IPython.display import Image as displayImage\n",
        "from PIL import Image\n",
        "import os\n",
        "from pytesseract import pytesseract\n",
        "\n",
        "pytesseract.run_tesseract(\"lal3.png\",\"output_hocr\",extension='png', lang=None,config=\"--psm 4 -c tessedit_create_hocr=1\")\n"
      ],
      "metadata": {
        "id": "hHDA8_nqdhcm"
      },
      "execution_count": null,
      "outputs": []
    },
    {
      "cell_type": "code",
      "source": [
        "LABEL_STUDIO_URL = 'https://slick-poems-type-122-161-53-190.loca.lt'\n",
        "API_KEY = 'd6b723213a1a324b1a76dc4a0f2c6787aabd575c'\n",
        "ls = Client(url=LABEL_STUDIO_URL, api_key=API_KEY)\n",
        "ls.check_connection()\n"
      ],
      "metadata": {
        "id": "Swq7bTYzds5l",
        "colab": {
          "base_uri": "https://localhost:8080/"
        },
        "outputId": "98e50259-13d2-4dbd-836b-b384c86774d4"
      },
      "execution_count": null,
      "outputs": [
        {
          "output_type": "execute_result",
          "data": {
            "text/plain": [
              "{'status': 'UP'}"
            ]
          },
          "metadata": {},
          "execution_count": 57
        }
      ]
    },
    {
      "cell_type": "code",
      "source": [
        "projects=ls.get_projects()\n",
        "print(\"Total Projects present: \"+str(len(projects)))\n",
        "print(\"Select a project from below:\")\n",
        "for idx,p in enumerate(projects):\n",
        "    print(str(idx+1)+'.'+p.title)\n",
        "selProjectNum=int(input(\"Select a project...\"))-1\n",
        "\n",
        "project=projects[selProjectNum]"
      ],
      "metadata": {
        "colab": {
          "base_uri": "https://localhost:8080/"
        },
        "id": "iWeeQcENfnCe",
        "outputId": "4f2b9314-80ba-4e23-a4b2-7c9f16fc669e"
      },
      "execution_count": null,
      "outputs": [
        {
          "name": "stdout",
          "output_type": "stream",
          "text": [
            "Total Projects present: 1\n",
            "Select a project from below:\n",
            "1.LalReportTry\n",
            "Select a project...1\n"
          ]
        }
      ]
    },
    {
      "cell_type": "code",
      "source": [
        "filters = Filters.create(Filters.OR, [\n",
        "    Filters.item(\n",
        "        Column.completed_at,\n",
        "        Operator.IN,\n",
        "        Type.Datetime,\n",
        "        Filters.value(\n",
        "            datetime(2021, 11, 1),\n",
        "            datetime.now()\n",
        "        )\n",
        "    )\n",
        "])\n",
        "tasks = project.get_tasks(filters=filters,ordering=[Column.completed_at])\n",
        "print(tasks)\n",
        "\n"
      ],
      "metadata": {
        "colab": {
          "base_uri": "https://localhost:8080/"
        },
        "id": "yzDARtNti1Kd",
        "outputId": "f7973105-aaa5-4f4b-b061-f5877022997c"
      },
      "execution_count": null,
      "outputs": [
        {
          "output_type": "stream",
          "name": "stdout",
          "text": [
            "[{'id': 2, 'data': {'imagepath': '/data/upload/4/f784084c-Covid_Sample_Report1_Lal_P_2.png'}, 'meta': {}, 'created_at': '2022-05-07T15:30:25.824247Z', 'updated_at': '2022-05-07T15:33:37.437711Z', 'is_labeled': True, 'overlap': 1, 'project': 4, 'file_upload': 3, 'annotations': [{'id': 5, 'created_username': ' vatsalgoyal44@gmail.com, 1', 'created_ago': '1\\xa0minute', 'result': [{'original_width': 632, 'original_height': 888, 'image_rotation': 0, 'value': {'x': 5.063291139240507, 'y': 15.427927927927929, 'width': 34.810126582278485, 'height': 3.0405405405405403, 'rotation': 0}, 'id': 'nybzdgbRcH', 'from_name': 'bbox', 'to_name': 'image', 'type': 'rectangle', 'origin': 'manual'}, {'original_width': 632, 'original_height': 888, 'image_rotation': 0, 'value': {'x': 5.063291139240507, 'y': 15.427927927927929, 'width': 34.810126582278485, 'height': 3.0405405405405403, 'rotation': 0, 'labels': ['Name']}, 'id': 'nybzdgbRcH', 'from_name': 'label', 'to_name': 'image', 'type': 'labels', 'origin': 'manual'}, {'original_width': 632, 'original_height': 888, 'image_rotation': 0, 'value': {'x': 60.75949367088607, 'y': 15.878378378378374, 'width': 22.78481012658228, 'height': 2.2522522522522523, 'rotation': 0}, 'id': '4G_XV7g-YK', 'from_name': 'bbox', 'to_name': 'image', 'type': 'rectangle', 'origin': 'manual'}, {'original_width': 632, 'original_height': 888, 'image_rotation': 0, 'value': {'x': 60.75949367088607, 'y': 15.878378378378374, 'width': 22.78481012658228, 'height': 2.2522522522522523, 'rotation': 0, 'labels': ['Collection Date']}, 'id': '4G_XV7g-YK', 'from_name': 'label', 'to_name': 'image', 'type': 'labels', 'origin': 'manual'}, {'original_width': 632, 'original_height': 888, 'image_rotation': 0, 'value': {'x': 4.113924050632911, 'y': 27.13963963963964, 'width': 92.5632911392405, 'height': 11.373873873873874, 'rotation': 0}, 'id': 'xLT64KXAfg', 'from_name': 'bbox', 'to_name': 'image', 'type': 'rectangle', 'origin': 'manual'}, {'original_width': 632, 'original_height': 888, 'image_rotation': 0, 'value': {'x': 4.113924050632911, 'y': 27.13963963963964, 'width': 92.5632911392405, 'height': 11.373873873873874, 'rotation': 0, 'labels': ['Result']}, 'id': 'xLT64KXAfg', 'from_name': 'label', 'to_name': 'image', 'type': 'labels', 'origin': 'manual'}], 'was_cancelled': False, 'ground_truth': False, 'created_at': '2022-05-07T15:33:37.411090Z', 'updated_at': '2022-05-07T15:33:37.411123Z', 'lead_time': 180.96, 'task': 2, 'completed_by': 1, 'parent_prediction': None, 'parent_annotation': None}]}]\n"
          ]
        }
      ]
    },
    {
      "cell_type": "code",
      "source": [
        "annotation=tasks[-1]['annotations'][-1]\n",
        "\n",
        "#get the labels and bbox\n",
        "result=annotation['result']\n",
        "\n",
        "labels=[d for d in result if d['type'] in ['labels']]\n",
        "\n",
        "#read the labels.json\n",
        "userDefinedLabels=None\n",
        "\n",
        "with open(\"data/labels.json\", \"r\") as jsonfile:\n",
        "    userDefinedLabels=json.load(jsonfile)\n",
        "\n",
        "if userDefinedLabels==None:\n",
        "    print(\"Error! No User defined label present!\")\n",
        "    sys.exit()\n",
        "\n",
        "for ulabel in userDefinedLabels:\n",
        "    #assuming there is only one\n",
        "    print(ulabel)\n",
        "    uvalue=[item['value'] for item in labels if item['value']['labels'][0] == ulabel['labelName']][0]\n",
        "    ulabel['x']=uvalue['x']\n",
        "    ulabel['y']=uvalue['y']\n",
        "    ulabel['width']=uvalue['width']\n",
        "    ulabel['height']=uvalue['height']\n",
        "    \n",
        "with open(\"data/labels.json\", \"w\") as outfile:\n",
        "    json.dump(userDefinedLabels, outfile)\n"
      ],
      "metadata": {
        "colab": {
          "base_uri": "https://localhost:8080/"
        },
        "id": "1rDxSZfS1jZw",
        "outputId": "65310135-58c9-4b21-a28e-485779b67541"
      },
      "execution_count": null,
      "outputs": [
        {
          "output_type": "stream",
          "name": "stdout",
          "text": [
            "{'labelName': 'Name', 'labelType': 'Person'}\n",
            "{'labelName': 'Collection Date', 'labelType': 'Date'}\n",
            "{'labelName': 'Result', 'labelType': 'CovidResult'}\n"
          ]
        }
      ]
    },
    {
      "cell_type": "code",
      "source": [
        "import bs4\n",
        "img = Image.open(\"lal3.png\")\n",
        "width, height = img.size\n",
        "xml_input = open(\"output_hocr.hocr\",\"r\",encoding=\"utf-8\")\n",
        "soup = bs4.BeautifulSoup(xml_input,'lxml')\n",
        "ocr_lines = soup.findAll(\"span\", {\"class\": \"ocr_line\"})\n",
        "#We will save coordinates of line and the text contained in the line in lines_structure list\n",
        "lines_structure = []\n",
        "for line in ocr_lines:\n",
        "    line_text = line.text.replace(\"\\n\",\" \").strip()\n",
        "    title = line['title']\n",
        "    #The coordinates of the bounding box\n",
        "    x1,y1,x2,y2 = map(int, title[5:title.find(\";\")].split())\n",
        "    lines_structure.append({\"x1\":(x1*100.0)/width,\"y1\":(y1*100.0)/height,\"x2\":(x2*100.0)/width,\"y2\":(y2*100.0)/height,\"text\": line_text})"
      ],
      "metadata": {
        "id": "Ko-r2Mf33FD8"
      },
      "execution_count": null,
      "outputs": []
    },
    {
      "cell_type": "code",
      "source": [
        "textextracted={}\n",
        "for ulabel in userDefinedLabels:\n",
        "  print(ulabel['labelName'])\n",
        "  textextracted[ulabel['labelName']] = \"\"\n",
        "  for struct in lines_structure:\n",
        "    intersectingwidth = min(struct['x2'],ulabel['x']+ulabel['width'])-max(struct['x1'],ulabel['x'])\n",
        "    intersectingheigth = min(struct['y2'],ulabel['y']+ulabel['height'])-max(struct['y1'],ulabel['y'])\n",
        "    if intersectingheigth<=0 or intersectingwidth<=0:\n",
        "      intersectingarea = 0\n",
        "    else:\n",
        "      intersectingarea=abs(intersectingheigth*intersectingwidth)\n",
        "    boxarea = abs((struct['x1']-struct['x2'])*(struct['y1']-struct['y2']))\n",
        "    labelarea = ulabel['width']*ulabel['height']\n",
        "    overlap = intersectingarea/(boxarea*1.0)\n",
        "    overlap2 = intersectingarea/(labelarea*1.0)\n",
        "    if overlap >= 0.9 or overlap2 >= 0.9:\n",
        "      textextracted[ulabel['labelName']] = textextracted[ulabel['labelName']] + \" \"+struct['text']\n",
        "  print(textextracted[ulabel['labelName']])  \n",
        "  \n"
      ],
      "metadata": {
        "id": "N-CGGb2zKrzB",
        "colab": {
          "base_uri": "https://localhost:8080/"
        },
        "outputId": "fee64fea-6c15-46dc-f166-11bf4a54e4cd"
      },
      "execution_count": null,
      "outputs": [
        {
          "output_type": "stream",
          "name": "stdout",
          "text": [
            "Name\n",
            "\n",
            "Collection Date\n",
            " — casi\n",
            "Result\n",
            " tne se  ‘SARS.CoV-2(COVID-19) QUALITATIVE REAL TIME RT-PCR  “Type of Specimen Nasopharyngeal COropharynges! Swabs Result Negative\n"
          ]
        }
      ]
    },
    {
      "cell_type": "code",
      "source": [
        "!python -m spacy download en_core_web_md\n"
      ],
      "metadata": {
        "colab": {
          "base_uri": "https://localhost:8080/"
        },
        "id": "ZnNk3Dx9VEwz",
        "outputId": "ded41d1d-0227-405f-a95a-e590663ebda9"
      },
      "execution_count": null,
      "outputs": [
        {
          "output_type": "stream",
          "name": "stdout",
          "text": [
            "Collecting en_core_web_md==2.2.5\n",
            "  Downloading https://github.com/explosion/spacy-models/releases/download/en_core_web_md-2.2.5/en_core_web_md-2.2.5.tar.gz (96.4 MB)\n",
            "\u001b[K     |████████████████████████████████| 96.4 MB 985 kB/s \n",
            "\u001b[?25hRequirement already satisfied: spacy>=2.2.2 in /usr/local/lib/python3.7/dist-packages (from en_core_web_md==2.2.5) (2.2.4)\n",
            "Requirement already satisfied: wasabi<1.1.0,>=0.4.0 in /usr/local/lib/python3.7/dist-packages (from spacy>=2.2.2->en_core_web_md==2.2.5) (0.9.1)\n",
            "Requirement already satisfied: murmurhash<1.1.0,>=0.28.0 in /usr/local/lib/python3.7/dist-packages (from spacy>=2.2.2->en_core_web_md==2.2.5) (1.0.7)\n",
            "Requirement already satisfied: preshed<3.1.0,>=3.0.2 in /usr/local/lib/python3.7/dist-packages (from spacy>=2.2.2->en_core_web_md==2.2.5) (3.0.6)\n",
            "Requirement already satisfied: srsly<1.1.0,>=1.0.2 in /usr/local/lib/python3.7/dist-packages (from spacy>=2.2.2->en_core_web_md==2.2.5) (1.0.5)\n",
            "Requirement already satisfied: tqdm<5.0.0,>=4.38.0 in /usr/local/lib/python3.7/dist-packages (from spacy>=2.2.2->en_core_web_md==2.2.5) (4.64.0)\n",
            "Requirement already satisfied: numpy>=1.15.0 in /usr/local/lib/python3.7/dist-packages (from spacy>=2.2.2->en_core_web_md==2.2.5) (1.21.6)\n",
            "Requirement already satisfied: requests<3.0.0,>=2.13.0 in /usr/local/lib/python3.7/dist-packages (from spacy>=2.2.2->en_core_web_md==2.2.5) (2.23.0)\n",
            "Requirement already satisfied: setuptools in /usr/local/lib/python3.7/dist-packages (from spacy>=2.2.2->en_core_web_md==2.2.5) (57.4.0)\n",
            "Requirement already satisfied: cymem<2.1.0,>=2.0.2 in /usr/local/lib/python3.7/dist-packages (from spacy>=2.2.2->en_core_web_md==2.2.5) (2.0.6)\n",
            "Requirement already satisfied: plac<1.2.0,>=0.9.6 in /usr/local/lib/python3.7/dist-packages (from spacy>=2.2.2->en_core_web_md==2.2.5) (1.1.3)\n",
            "Requirement already satisfied: catalogue<1.1.0,>=0.0.7 in /usr/local/lib/python3.7/dist-packages (from spacy>=2.2.2->en_core_web_md==2.2.5) (1.0.0)\n",
            "Requirement already satisfied: thinc==7.4.0 in /usr/local/lib/python3.7/dist-packages (from spacy>=2.2.2->en_core_web_md==2.2.5) (7.4.0)\n",
            "Requirement already satisfied: blis<0.5.0,>=0.4.0 in /usr/local/lib/python3.7/dist-packages (from spacy>=2.2.2->en_core_web_md==2.2.5) (0.4.1)\n",
            "Requirement already satisfied: importlib-metadata>=0.20 in /usr/local/lib/python3.7/dist-packages (from catalogue<1.1.0,>=0.0.7->spacy>=2.2.2->en_core_web_md==2.2.5) (4.11.3)\n",
            "Requirement already satisfied: zipp>=0.5 in /usr/local/lib/python3.7/dist-packages (from importlib-metadata>=0.20->catalogue<1.1.0,>=0.0.7->spacy>=2.2.2->en_core_web_md==2.2.5) (3.8.0)\n",
            "Requirement already satisfied: typing-extensions>=3.6.4 in /usr/local/lib/python3.7/dist-packages (from importlib-metadata>=0.20->catalogue<1.1.0,>=0.0.7->spacy>=2.2.2->en_core_web_md==2.2.5) (4.2.0)\n",
            "Requirement already satisfied: chardet<4,>=3.0.2 in /usr/local/lib/python3.7/dist-packages (from requests<3.0.0,>=2.13.0->spacy>=2.2.2->en_core_web_md==2.2.5) (3.0.4)\n",
            "Requirement already satisfied: urllib3!=1.25.0,!=1.25.1,<1.26,>=1.21.1 in /usr/local/lib/python3.7/dist-packages (from requests<3.0.0,>=2.13.0->spacy>=2.2.2->en_core_web_md==2.2.5) (1.24.3)\n",
            "Requirement already satisfied: certifi>=2017.4.17 in /usr/local/lib/python3.7/dist-packages (from requests<3.0.0,>=2.13.0->spacy>=2.2.2->en_core_web_md==2.2.5) (2021.10.8)\n",
            "Requirement already satisfied: idna<3,>=2.5 in /usr/local/lib/python3.7/dist-packages (from requests<3.0.0,>=2.13.0->spacy>=2.2.2->en_core_web_md==2.2.5) (2.10)\n",
            "\u001b[38;5;2m✔ Download and installation successful\u001b[0m\n",
            "You can now load the model via spacy.load('en_core_web_md')\n"
          ]
        }
      ]
    },
    {
      "cell_type": "code",
      "source": [
        "import spacy\n",
        "from collections import defaultdict\n",
        "\n",
        "nlp = spacy.load('en_core_web_md')\n"
      ],
      "metadata": {
        "id": "I1GJ9fFdVFRf"
      },
      "execution_count": null,
      "outputs": []
    },
    {
      "cell_type": "code",
      "source": [
        "keys=[]\n",
        "values=[]\n",
        "for ulabel in userDefinedLabels:\n",
        "    if ulabel['labelName']=='Name':\n",
        "      text1 = nlp(textextracted[ulabel['labelName']])\n",
        "      for w in text1.ents:\n",
        "        if w.label_=='PERSON':\n",
        "          keys.append('PERSON')\n",
        "          values.append(w.text)\n",
        "          print(w.text)\n",
        "    elif ulabel['labelName']=='Date':\n",
        "      text1 = nlp(textextracted[ulabel['labelName']])\n",
        "      for w in text1.ents:\n",
        "        if w.label_=='DATE':\n",
        "          keys.append('DATE')\n",
        "          values.append(w.text)\n",
        "          print(w.text)\n",
        "    elif ulabel['labelName']=='Result':\n",
        "      text1 = textextracted[ulabel['labelName']]\n",
        "      text1 = text1.lower()\n",
        "      if text1.find('positive')>=0:\n",
        "        keys.append('RESULT')\n",
        "        values.append('Positive')\n",
        "        print('Positive')\n",
        "      if text1.find('negative')>=0:\n",
        "        keys.append('RESULT')\n",
        "        values.append('Negative')\n",
        "        print('Negative')"
      ],
      "metadata": {
        "colab": {
          "base_uri": "https://localhost:8080/"
        },
        "id": "AZOjoPxxVMvu",
        "outputId": "8842182b-bdf9-48e6-8308-c1e9301e1f10"
      },
      "execution_count": null,
      "outputs": [
        {
          "output_type": "stream",
          "name": "stdout",
          "text": [
            "Negative\n"
          ]
        }
      ]
    },
    {
      "cell_type": "code",
      "source": [
        ""
      ],
      "metadata": {
        "id": "I8jzgT3rKQJX"
      },
      "execution_count": null,
      "outputs": []
    }
  ]
}